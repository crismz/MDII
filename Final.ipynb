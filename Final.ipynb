{
  "nbformat": 4,
  "nbformat_minor": 0,
  "metadata": {
    "colab": {
      "provenance": [],
      "toc_visible": true,
      "authorship_tag": "ABX9TyMmC3HXFp0qPfN11hDfkRdS",
      "include_colab_link": true
    },
    "kernelspec": {
      "name": "python3",
      "display_name": "Python 3"
    },
    "language_info": {
      "name": "python"
    }
  },
  "cells": [
    {
      "cell_type": "markdown",
      "metadata": {
        "id": "view-in-github",
        "colab_type": "text"
      },
      "source": [
        "<a href=\"https://colab.research.google.com/github/crismz/MDII/blob/main/Final.ipynb\" target=\"_parent\"><img src=\"https://colab.research.google.com/assets/colab-badge.svg\" alt=\"Open In Colab\"/></a>"
      ]
    },
    {
      "cell_type": "markdown",
      "source": [
        "#Respuestas a posibles preguntas de ML\n",
        "\n",
        "- ¿En qué tipo de problemas es adecuado utilizar aprendizaje automático?\n",
        "\n",
        "- ¿Cuál es la diferencia entre la función de costo o pérdida, y las métricas de rendimiento del modelo?\n",
        "\n",
        "- ¿Cómo se puede entrenar un modelo utilizando features o características no numéricas?\n",
        "\n",
        "- Explique por qué se intenta minimizar la función de costo utilizando un método iterativo (numérico) y no un método analítico minimizando la derivada de la función?\n",
        "\n",
        "- ¿Por qué el algoritmo SGD se llama “estocástico”?\n",
        "\n",
        "- ¿Qué impacto tiene el learning rate en la optimización de la función?\n",
        "\n",
        "- Si una red tiene muy buen rendimiento durante el entrenamiento, pero muy bajo rendimiento en un conjunto de datos de evaluación, ¿qué acciones tomaría para mejorar el modelo?\n",
        "\n",
        "- ¿Por qué inicializamos los pesos de un modelo en valores aleatorios? ¿Qué pasaría si los inicializamos todos en cero? ¿Y todos en uno?\n",
        "\n",
        "- ¿Por qué el dropout puede ser considerado una técnica de regularización?\n",
        "\n",
        "- ¿Por qué está recomendada la estandarización de los valores de entrada de un modelo de machine learning?\n",
        "\n"
      ],
      "metadata": {
        "id": "oWWP6g5AVhgg"
      }
    },
    {
      "cell_type": "markdown",
      "source": [
        "## Resumen de ML\n",
        "\n"
      ],
      "metadata": {
        "id": "InLI-c9eV6ok"
      }
    },
    {
      "cell_type": "markdown",
      "source": [
        "# Complejidad de Edmonds-Karp\n",
        "\n",
        "La complejidad es $O(nm^2)$\n",
        "\n",
        "## Estructura\n",
        "\n",
        "Supondremos que no existen arcos paralelos xy e yx. Es decir que si está el lado $\\overrightarrow{xy}$ entonces no está el lado $\\overrightarrow{yx}$.  \n",
        "Esta propiedad no es restrictiva, ya que para cualquier network N que presente arcos paralelos, podemos dar un N' tal que sea como N pero con vértices \"intermedios\" adicionales en medio de cada arco paralelo.\n",
        "\n",
        "Primero queremos ver que los flujos parciales $f_0, f_1, f_2, ...$ son finitos y daremos una cota para la cantidad.\n",
        "\n",
        "Como la búsqueda y construcción de cada flujo parcial se hace con BFS, cada incremento tiene complejidad $O(m)$ (máximo vas a tener que ver todos los lados hasta llegar a $t$).\n",
        "\n",
        "Si probamos que solo puede haber $O(nm)$ búsquedas, entonces habremos probado la complejidad de E-K: $O(nm) * O(m) = O(n*m^2)$.\n",
        "\n",
        "### Pasos de estructura\n",
        "\n",
        "\n",
        "*   Damos lemas y definiciones\n",
        "*   Acotamos la cantidad de veces que se puede volver crítico un lado ($O(n)$)\n",
        "*   Concluimos que todo lado puede volverse crítico $O(n)$ veces, y siempre se vuelve crítico un lado en un nuevo paso de E-K, la cantidad de paso es $O(n*m)$.\n",
        "*   La complejidad total es entonces $O(n*m^2)$\n",
        "\n",
        "## Definiciones / Lemas internos\n",
        "\n",
        "### Lema de las distancias\n",
        "\n",
        "Las distancias $d_k(x)$ y $b_k(x)$ son <= a $d_{k+1}(x)$ y $b_{k+1}(x)$ respectivamente\n",
        "\n",
        "### Lado crítico\n",
        "\n",
        "Un lado xy se vuelve crítico si se satura completamente o se vacía complemantente\n",
        "\n",
        "### Distancias\n",
        "\n",
        "$d_k(x)$ = longitud del menor $f_k\\text{-CA}$ de $s$ a $x$ = $d_{f_k}(s,x)$\n",
        "\n",
        "$b_k(x)$ = longitud del menor $f_k\\text{-CA}$ de $x$ a $t$ = $d_{f_k}(x,t)$\n",
        "\n",
        "## Prueba\n",
        "\n",
        "\n",
        "\n",
        "\n"
      ],
      "metadata": {
        "id": "Z4mjTdEHozWL"
      }
    },
    {
      "cell_type": "markdown",
      "source": [
        "# Propiedad de las distancias\n",
        "\n",
        "Probar que si dado dos vértices x,z y flujo f definimos a la distancia entre x y z relativa a f como la longitud del menor f-CA entre x y z, si es que existe tal camino, o infinito si no existe, o si 0 si x=z, denotándola por $d_f(x,z)$, y definimos $d_k(x) = d_{f_k}(s,x)$, donde $f_k$ es el k-ésimo flujo en una corrida de E-K, entonces $d_k(x) <= d_k(x+1)$.\n",
        "\n",
        "## Definiciones\n",
        "\n",
        "### fFF vecino\n",
        "\n",
        "Decimos que z es fFF vecino de x si desde x podemos envíar flujo a z o devolver flujo a z.\n",
        "\n",
        "## Estructura\n",
        "\n",
        "*   Asumimos $A = \\{y : d_{k+1}(y) < d_k(y)\\} \\ne \\emptyset$\n",
        "*   Tomamos un $x$ de $A$ tal que $d_{k+1}(x)$ sea mínimo ($d_{k+1}(x) <= d_{k+1}(y)$ para todo $y$ que pernetece a $A$)\n",
        "* Probamos que existen un z anterior a x desde el que antes no podías llegar a x pero ahora si. Vemos que dada esa situación, $z$ no pertenece a $A$, y por lo tanto $d_k(x) > d_k(z) + 1$.\n",
        "* Luego resta ver que para que esto haya ocurrido, antes tomamos un camino s...xz...t y por lo tanto $d_k(z) = d_k(x)+1$\n",
        "* Usando las dos conclusiones anteriores, llegamos a $0 > 2$\n",
        "\n",
        "## Prueba\n",
        "\n",
        "\n",
        "\n"
      ],
      "metadata": {
        "id": "_4wPtmgGMi0f"
      }
    }
  ]
}